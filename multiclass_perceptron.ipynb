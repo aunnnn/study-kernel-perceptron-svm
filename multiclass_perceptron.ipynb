{
 "cells": [
  {
   "cell_type": "code",
   "execution_count": 109,
   "metadata": {},
   "outputs": [],
   "source": [
    "import numpy as np\n",
    "import matplotlib.pyplot as plt\n",
    "from matplotlib.patches import Rectangle"
   ]
  },
  {
   "cell_type": "code",
   "execution_count": 80,
   "metadata": {},
   "outputs": [],
   "source": [
    "def load_data():\n",
    "  with open('data0.txt') as f:\n",
    "    return np.array([list(map(int, l.strip().split(' '))) for l in f.readlines()])\n",
    "data = load_data()\n",
    "X, y = data[:, :2], data[:, 2]"
   ]
  },
  {
   "cell_type": "code",
   "execution_count": 116,
   "metadata": {},
   "outputs": [],
   "source": [
    "def multiclass_perceptron(X, y):\n",
    "  n_classes = len(np.unique(y))\n",
    "  w = np.zeros((n_classes, 2))\n",
    "  b = np.zeros(n_classes)\n",
    "  ep = 0\n",
    "  while True:\n",
    "#     print(ep)\n",
    "    # Go through all\n",
    "    is_any_misclassified = False\n",
    "    for i in range(len(X)):\n",
    "      label = y[i]\n",
    "      x = X[i]\n",
    "      pred = np.argmax(w @ x + b)\n",
    "      if pred != label:\n",
    "        is_any_misclassified = True\n",
    "        w[pred] = w[pred] - x\n",
    "        b[pred] = b[pred] - 1\n",
    "        w[label] = w[label] + x\n",
    "        b[label] = b[label] + 1\n",
    "    if not is_any_misclassified:\n",
    "      print('No more misclassification at epoch', ep)\n",
    "      break\n",
    "    ep += 1\n",
    "  return w, b\n",
    "      "
   ]
  },
  {
   "cell_type": "code",
   "execution_count": 117,
   "metadata": {},
   "outputs": [
    {
     "name": "stdout",
     "output_type": "stream",
     "text": [
      "No more misclassification at epoch 32\n"
     ]
    }
   ],
   "source": [
    "w, b = multiclass_perceptron(X,y)"
   ]
  },
  {
   "cell_type": "code",
   "execution_count": 140,
   "metadata": {},
   "outputs": [
    {
     "data": {
      "image/png": "[encoded data removed]",
      "text/plain": [
       "<Figure size 432x288 with 1 Axes>"
      ]
     },
     "metadata": {
      "needs_background": "light"
     },
     "output_type": "display_data"
    }
   ],
   "source": [
    "minx, maxx = min(X[:,0]), max(X[:,0])\n",
    "miny, maxy = min(X[:,1]), max(X[:,1])\n",
    "\n",
    "cols = ['b', 'g', 'r', 'c', 'm', 'y', 'k']\n",
    "\n",
    "ax = plt.gca()\n",
    "step = 0.05\n",
    "for i in np.arange(0, 11, step):\n",
    "  for j in np.arange(0, 11, step):\n",
    "    x = [i,j]\n",
    "    pred = np.argmax(w @ x + b)\n",
    "    rect = Rectangle((i,j), step, step, color=cols[pred])\n",
    "    ax.add_patch(rect)\n",
    "    \n",
    "ax.scatter(X[:,0], X[:,1], c=y, zorder=5)\n",
    "plt.show()"
   ]
  }
 ],
 "metadata": {
  "kernelspec": {
   "display_name": "Python 3",
   "language": "python",
   "name": "python3"
  },
  "language_info": {
   "codemirror_mode": {
    "name": "ipython",
    "version": 3
   },
   "file_extension": ".py",
   "mimetype": "text/x-python",
   "name": "python",
   "nbconvert_exporter": "python",
   "pygments_lexer": "ipython3",
   "version": "3.6.8"
  }
 },
 "nbformat": 4,
 "nbformat_minor": 2
}
