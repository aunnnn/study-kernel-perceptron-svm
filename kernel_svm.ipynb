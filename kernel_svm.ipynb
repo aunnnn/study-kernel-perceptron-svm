{
 "cells": [
  {
   "cell_type": "code",
   "execution_count": 1,
   "metadata": {},
   "outputs": [],
   "source": [
    "import numpy as np\n",
    "import matplotlib.pyplot as plt\n",
    "from tqdm import tqdm_notebook as tqdm\n",
    "import pandas as pd\n",
    "from sklearn.svm import LinearSVC, SVC"
   ]
  },
  {
   "cell_type": "code",
   "execution_count": 2,
   "metadata": {},
   "outputs": [],
   "source": [
    "def read_data():\n",
    "  import gzip\n",
    "  \n",
    "  IMAGE_SIZE = 28\n",
    "  \n",
    "  traindata_f = gzip.open('MNIST/train-images-idx3-ubyte.gz','r')\n",
    "  trainlabels_f = gzip.open('MNIST/train-labels-idx1-ubyte.gz','r')\n",
    "  testdata_f = gzip.open('MNIST/t10k-images-idx3-ubyte.gz','r')\n",
    "  testlabels_f = gzip.open('MNIST/t10k-labels-idx1-ubyte.gz','r')\n",
    "\n",
    "  def read_images(num_images, f):\n",
    "    f.read(16)\n",
    "    buf = f.read(IMAGE_SIZE * IMAGE_SIZE * num_images)\n",
    "    data = np.frombuffer(buf, dtype=np.uint8).astype(np.float32)\n",
    "    data = data.reshape(num_images, IMAGE_SIZE * IMAGE_SIZE)/255.0 # Normalized\n",
    "    return data\n",
    "\n",
    "  def read_labels(num_labels, f):\n",
    "    f.read(8)\n",
    "    buf = f.read(1 * 32 * num_labels)\n",
    "    labels = np.frombuffer(buf, dtype=np.uint8).astype(np.int64)\n",
    "    return labels\n",
    "\n",
    "  train_data = read_images(60_000, traindata_f)\n",
    "  train_labels = read_labels(60_000, trainlabels_f)\n",
    "  \n",
    "  test_data = read_images(10_000, testdata_f)\n",
    "  test_labels = read_labels(10_000, testlabels_f) \n",
    "  \n",
    "  return train_data, train_labels, test_data, test_labels\n",
    "\n",
    "train_data, train_labels, test_data, test_labels = read_data()"
   ]
  },
  {
   "cell_type": "code",
   "execution_count": 3,
   "metadata": {},
   "outputs": [],
   "source": [
    "def onehot_encode(labels):\n",
    "  res = np.zeros((len(labels), labels.max()+1))\n",
    "  res[np.arange(len(res)), labels] = 1\n",
    "  return res"
   ]
  },
  {
   "cell_type": "markdown",
   "metadata": {},
   "source": [
    "## Linear SVM"
   ]
  },
  {
   "cell_type": "code",
   "execution_count": 4,
   "metadata": {},
   "outputs": [],
   "source": [
    "def test_linear_svm(C):\n",
    "  clf = LinearSVC(loss='hinge', C=C)\n",
    "  clf.fit(train_data, train_labels)\n",
    "  return {\n",
    "    'train_score': clf.score(train_data, train_labels),\n",
    "    'test_score': clf.score(test_data, test_labels)\n",
    "  }"
   ]
  },
  {
   "cell_type": "code",
   "execution_count": 31,
   "metadata": {},
   "outputs": [
    {
     "name": "stdout",
     "output_type": "stream",
     "text": [
      "0.01 : {'train_score': 0.9165666666666666, 'test_score': 0.9178}\n"
     ]
    },
    {
     "name": "stderr",
     "output_type": "stream",
     "text": [
      "/anaconda3/lib/python3.6/site-packages/sklearn/svm/base.py:922: ConvergenceWarning: Liblinear failed to converge, increase the number of iterations.\n",
      "  \"the number of iterations.\", ConvergenceWarning)\n"
     ]
    },
    {
     "name": "stdout",
     "output_type": "stream",
     "text": [
      "0.1 : {'train_score': 0.9251666666666667, 'test_score': 0.9228}\n"
     ]
    },
    {
     "name": "stderr",
     "output_type": "stream",
     "text": [
      "/anaconda3/lib/python3.6/site-packages/sklearn/svm/base.py:922: ConvergenceWarning: Liblinear failed to converge, increase the number of iterations.\n",
      "  \"the number of iterations.\", ConvergenceWarning)\n"
     ]
    },
    {
     "name": "stdout",
     "output_type": "stream",
     "text": [
      "1 : {'train_score': 0.9295833333333333, 'test_score': 0.9219}\n"
     ]
    },
    {
     "name": "stderr",
     "output_type": "stream",
     "text": [
      "/anaconda3/lib/python3.6/site-packages/sklearn/svm/base.py:922: ConvergenceWarning: Liblinear failed to converge, increase the number of iterations.\n",
      "  \"the number of iterations.\", ConvergenceWarning)\n"
     ]
    },
    {
     "name": "stdout",
     "output_type": "stream",
     "text": [
      "10 : {'train_score': 0.9280833333333334, 'test_score': 0.9175}\n"
     ]
    },
    {
     "name": "stderr",
     "output_type": "stream",
     "text": [
      "/anaconda3/lib/python3.6/site-packages/sklearn/svm/base.py:922: ConvergenceWarning: Liblinear failed to converge, increase the number of iterations.\n",
      "  \"the number of iterations.\", ConvergenceWarning)\n"
     ]
    },
    {
     "name": "stdout",
     "output_type": "stream",
     "text": [
      "100 : {'train_score': 0.8571166666666666, 'test_score': 0.8529}\n"
     ]
    }
   ],
   "source": [
    "for C in [0.01, 0.1, 1, 10, 100]:\n",
    "  score = test_linear_svm(C)\n",
    "  print(C, ':', score)"
   ]
  },
  {
   "cell_type": "markdown",
   "metadata": {},
   "source": [
    "## Quadratic SVM"
   ]
  },
  {
   "cell_type": "code",
   "execution_count": 5,
   "metadata": {},
   "outputs": [],
   "source": [
    "def test_quadratic_svm(C):\n",
    "  inds = np.arange(len(train_data))\n",
    "  np.random.shuffle(inds)\n",
    "  inds = inds[:10_000] # More than this will hang\n",
    "  X, y = train_data[inds], train_labels[inds]  \n",
    "  clf = SVC(kernel='poly', degree=2, C=C)\n",
    "  clf.fit(X, y)\n",
    "  return {\n",
    "    'train_score': clf.score(train_data, train_labels),\n",
    "    'test_score': clf.score(test_data, test_labels)\n",
    "  }"
   ]
  },
  {
   "cell_type": "code",
   "execution_count": null,
   "metadata": {},
   "outputs": [
    {
     "name": "stderr",
     "output_type": "stream",
     "text": [
      "/anaconda3/lib/python3.6/site-packages/sklearn/svm/base.py:196: FutureWarning: The default value of gamma will change from 'auto' to 'scale' in version 0.22 to account better for unscaled features. Set gamma explicitly to 'auto' or 'scale' to avoid this warning.\n",
      "  \"avoid this warning.\", FutureWarning)\n"
     ]
    }
   ],
   "source": [
    "test_quadratic_svm(1.0)"
   ]
  }
 ],
 "metadata": {
  "kernelspec": {
   "display_name": "Python 3",
   "language": "python",
   "name": "python3"
  },
  "language_info": {
   "codemirror_mode": {
    "name": "ipython",
    "version": 3
   },
   "file_extension": ".py",
   "mimetype": "text/x-python",
   "name": "python",
   "nbconvert_exporter": "python",
   "pygments_lexer": "ipython3",
   "version": "3.6.8"
  }
 },
 "nbformat": 4,
 "nbformat_minor": 2
}
