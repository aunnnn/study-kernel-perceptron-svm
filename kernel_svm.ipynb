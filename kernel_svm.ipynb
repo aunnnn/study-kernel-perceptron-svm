{
 "cells": [
  {
   "cell_type": "code",
   "execution_count": 1,
   "metadata": {},
   "outputs": [],
   "source": [
    "import numpy as np\n",
    "import matplotlib.pyplot as plt\n",
    "from tqdm import tqdm_notebook as tqdm\n",
    "import pandas as pd\n",
    "from sklearn.svm import LinearSVC, SVC"
   ]
  },
  {
   "cell_type": "code",
   "execution_count": 2,
   "metadata": {},
   "outputs": [],
   "source": [
    "def read_data():\n",
    "  import gzip\n",
    "  \n",
    "  IMAGE_SIZE = 28\n",
    "  \n",
    "  traindata_f = gzip.open('MNIST/train-images-idx3-ubyte.gz','r')\n",
    "  trainlabels_f = gzip.open('MNIST/train-labels-idx1-ubyte.gz','r')\n",
    "  testdata_f = gzip.open('MNIST/t10k-images-idx3-ubyte.gz','r')\n",
    "  testlabels_f = gzip.open('MNIST/t10k-labels-idx1-ubyte.gz','r')\n",
    "\n",
    "  def read_images(num_images, f):\n",
    "    f.read(16)\n",
    "    buf = f.read(IMAGE_SIZE * IMAGE_SIZE * num_images)\n",
    "    data = np.frombuffer(buf, dtype=np.uint8).astype(np.float32)\n",
    "    data = data.reshape(num_images, IMAGE_SIZE * IMAGE_SIZE)/255.0 # Normalized\n",
    "    return data\n",
    "\n",
    "  def read_labels(num_labels, f):\n",
    "    f.read(8)\n",
    "    buf = f.read(1 * 32 * num_labels)\n",
    "    labels = np.frombuffer(buf, dtype=np.uint8).astype(np.int64)\n",
    "    return labels\n",
    "\n",
    "  train_data = read_images(60_000, traindata_f)\n",
    "  train_labels = read_labels(60_000, trainlabels_f)\n",
    "  \n",
    "  test_data = read_images(10_000, testdata_f)\n",
    "  test_labels = read_labels(10_000, testlabels_f) \n",
    "  \n",
    "  return train_data, train_labels, test_data, test_labels\n",
    "\n",
    "train_data, train_labels, test_data, test_labels = read_data()"
   ]
  },
  {
   "cell_type": "code",
   "execution_count": 4,
   "metadata": {},
   "outputs": [],
   "source": [
    "clf = SVC(kernel='poly', degree=2, C=1.0, gamma='scale')"
   ]
  },
  {
   "cell_type": "code",
   "execution_count": null,
   "metadata": {},
   "outputs": [],
   "source": [
    "clf.fit(train_data, train_labels)"
   ]
  },
  {
   "cell_type": "code",
   "execution_count": null,
   "metadata": {},
   "outputs": [],
   "source": []
  }
 ],
 "metadata": {
  "kernelspec": {
   "display_name": "Python 3",
   "language": "python",
   "name": "python3"
  },
  "language_info": {
   "codemirror_mode": {
    "name": "ipython",
    "version": 3
   },
   "file_extension": ".py",
   "mimetype": "text/x-python",
   "name": "python",
   "nbconvert_exporter": "python",
   "pygments_lexer": "ipython3",
   "version": "3.6.8"
  }
 },
 "nbformat": 4,
 "nbformat_minor": 2
}
